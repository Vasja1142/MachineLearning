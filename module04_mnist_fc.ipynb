{
 "cells": [
  {
   "cell_type": "code",
   "execution_count": 736,
   "metadata": {
    "colab": {},
    "colab_type": "code",
    "id": "DWr6cvb9pS3J"
   },
   "outputs": [],
   "source": [
    "import torch\n",
    "import random\n",
    "import numpy as np\n",
    "\n",
    "random.seed(0)\n",
    "np.random.seed(0)\n",
    "torch.manual_seed(0)\n",
    "torch.cuda.manual_seed(0)\n",
    "torch.backends.cudnn.deterministic = True"
   ]
  },
  {
   "cell_type": "code",
   "execution_count": 737,
   "metadata": {
    "colab": {},
    "colab_type": "code",
    "id": "MqGQWTDIpS3R"
   },
   "outputs": [],
   "source": [
    "import torchvision.datasets\n",
    "MNIST_train = torchvision.datasets.MNIST('./', download=True, train=True)\n",
    "MNIST_test = torchvision.datasets.MNIST('./', download=True, train=False)"
   ]
  },
  {
   "cell_type": "code",
   "execution_count": 738,
   "metadata": {
    "colab": {},
    "colab_type": "code",
    "id": "vv_Lz7PYpS3U"
   },
   "outputs": [
    {
     "name": "stderr",
     "output_type": "stream",
     "text": [
      "c:\\Users\\vasja\\anaconda3\\Lib\\site-packages\\torchvision\\datasets\\mnist.py:76: UserWarning: train_data has been renamed data\n",
      "  warnings.warn(\"train_data has been renamed data\")\n",
      "c:\\Users\\vasja\\anaconda3\\Lib\\site-packages\\torchvision\\datasets\\mnist.py:66: UserWarning: train_labels has been renamed targets\n",
      "  warnings.warn(\"train_labels has been renamed targets\")\n",
      "c:\\Users\\vasja\\anaconda3\\Lib\\site-packages\\torchvision\\datasets\\mnist.py:81: UserWarning: test_data has been renamed data\n",
      "  warnings.warn(\"test_data has been renamed data\")\n",
      "c:\\Users\\vasja\\anaconda3\\Lib\\site-packages\\torchvision\\datasets\\mnist.py:71: UserWarning: test_labels has been renamed targets\n",
      "  warnings.warn(\"test_labels has been renamed targets\")\n"
     ]
    }
   ],
   "source": [
    "X_train = MNIST_train.train_data\n",
    "y_train = MNIST_train.train_labels\n",
    "X_test = MNIST_test.test_data\n",
    "y_test = MNIST_test.test_labels"
   ]
  },
  {
   "cell_type": "code",
   "execution_count": 739,
   "metadata": {
    "colab": {
     "base_uri": "https://localhost:8080/",
     "height": 35
    },
    "colab_type": "code",
    "id": "hMhsAedlrQF5",
    "outputId": "ae08bd21-79ff-48da-9886-48996a178110"
   },
   "outputs": [
    {
     "data": {
      "text/plain": [
       "(torch.uint8, torch.int64)"
      ]
     },
     "execution_count": 739,
     "metadata": {},
     "output_type": "execute_result"
    }
   ],
   "source": [
    "X_train.dtype, y_train.dtype"
   ]
  },
  {
   "cell_type": "code",
   "execution_count": 740,
   "metadata": {
    "colab": {},
    "colab_type": "code",
    "id": "_yTaVOrPvap6"
   },
   "outputs": [],
   "source": [
    "X_train = X_train.float()\n",
    "X_test = X_test.float()"
   ]
  },
  {
   "cell_type": "code",
   "execution_count": 741,
   "metadata": {
    "colab": {
     "base_uri": "https://localhost:8080/",
     "height": 35
    },
    "colab_type": "code",
    "id": "_gfupg4kpS3X",
    "outputId": "e72c3ff4-50f7-4695-d5d5-f838e7ac2667"
   },
   "outputs": [
    {
     "data": {
      "text/plain": [
       "(torch.Size([60000, 28, 28]), torch.Size([10000, 28, 28]))"
      ]
     },
     "execution_count": 741,
     "metadata": {},
     "output_type": "execute_result"
    }
   ],
   "source": [
    "X_train.shape, X_test.shape"
   ]
  },
  {
   "cell_type": "code",
   "execution_count": 742,
   "metadata": {
    "colab": {
     "base_uri": "https://localhost:8080/",
     "height": 35
    },
    "colab_type": "code",
    "id": "zEC1RXBEz_SW",
    "outputId": "48b9a605-2622-4188-b326-116b675bd499"
   },
   "outputs": [
    {
     "data": {
      "text/plain": [
       "(torch.Size([60000]), torch.Size([10000]))"
      ]
     },
     "execution_count": 742,
     "metadata": {},
     "output_type": "execute_result"
    }
   ],
   "source": [
    "y_train.shape, y_test.shape"
   ]
  },
  {
   "cell_type": "code",
   "execution_count": 743,
   "metadata": {
    "colab": {
     "base_uri": "https://localhost:8080/",
     "height": 365
    },
    "colab_type": "code",
    "id": "Z1tFXMwJpS3e",
    "outputId": "e7c2778b-d6f5-4718-ea28-fc8544f0416c"
   },
   "outputs": [
    {
     "data": {
      "image/png": "[encoded data removed]",
      "text/plain": [
       "<Figure size 640x480 with 1 Axes>"
      ]
     },
     "metadata": {},
     "output_type": "display_data"
    },
    {
     "name": "stdout",
     "output_type": "stream",
     "text": [
      "tensor(5)\n"
     ]
    }
   ],
   "source": [
    "import matplotlib.pyplot as plt\n",
    "plt.imshow(X_train[0, :, :])\n",
    "plt.show()\n",
    "print(y_train[0])"
   ]
  },
  {
   "cell_type": "code",
   "execution_count": 744,
   "metadata": {
    "colab": {},
    "colab_type": "code",
    "id": "IUZgNg7zpS3j"
   },
   "outputs": [],
   "source": [
    "X_train = X_train.reshape([-1, 28 * 28])\n",
    "X_test = X_test.reshape([-1, 28 * 28])"
   ]
  },
  {
   "cell_type": "code",
   "execution_count": 745,
   "metadata": {
    "colab": {},
    "colab_type": "code",
    "id": "k7l65slppS3l"
   },
   "outputs": [],
   "source": [
    "class MNISTNet(torch.nn.Module):\n",
    "    def __init__(self, n_hidden_neurons):\n",
    "        super(MNISTNet, self).__init__()\n",
    "        self.fc1 = torch.nn.Linear(28 * 28, n_hidden_neurons)\n",
    "        self.ac1 = torch.nn.Sigmoid()\n",
    "        self.fc2 = torch.nn.Linear(n_hidden_neurons, 10) \n",
    "    \n",
    "    def forward(self, x):\n",
    "        x = self.fc1(x)\n",
    "        x = self.ac1(x)\n",
    "        x = self.fc2(x)\n",
    "        return x\n",
    "    \n",
    "mnist_net = MNISTNet(784)"
   ]
  },
  {
   "cell_type": "code",
   "execution_count": 746,
   "metadata": {
    "colab": {},
    "colab_type": "code",
    "id": "FJp7t3dR0pC5"
   },
   "outputs": [
    {
     "data": {
      "text/plain": [
       "True"
      ]
     },
     "execution_count": 746,
     "metadata": {},
     "output_type": "execute_result"
    }
   ],
   "source": [
    "torch.cuda.is_available()"
   ]
  },
  {
   "cell_type": "code",
   "execution_count": 747,
   "metadata": {
    "colab": {},
    "colab_type": "code",
    "id": "ShQDv_w-0rz8"
   },
   "outputs": [
    {
     "name": "stdout",
     "output_type": "stream",
     "text": [
      "Wed Mar 12 19:50:09 2025       \n",
      "+-----------------------------------------------------------------------------------------+\n",
      "| NVIDIA-SMI 560.94                 Driver Version: 560.94         CUDA Version: 12.6     |\n",
      "|-----------------------------------------+------------------------+----------------------+\n",
      "| GPU  Name                  Driver-Model | Bus-Id          Disp.A | Volatile Uncorr. ECC |\n",
      "| Fan  Temp   Perf          Pwr:Usage/Cap |           Memory-Usage | GPU-Util  Compute M. |\n",
      "|                                         |                        |               MIG M. |\n",
      "|=========================================+========================+======================|\n",
      "|   0  NVIDIA GeForce GTX 1050 Ti   WDDM  |   00000000:01:00.0  On |                  N/A |\n",
      "| 49%   64C    P0             N/A /   75W |    3833MiB /   4096MiB |      1%      Default |\n",
      "|                                         |                        |                  N/A |\n",
      "+-----------------------------------------+------------------------+----------------------+\n",
      "                                                                                         \n",
      "+-----------------------------------------------------------------------------------------+\n",
      "| Processes:                                                                              |\n",
      "|  GPU   GI   CI        PID   Type   Process name                              GPU Memory |\n",
      "|        ID   ID                                                               Usage      |\n",
      "|=========================================================================================|\n",
      "|    0   N/A  N/A       404    C+G   ...CBS_cw5n1h2txyewy\\TextInputHost.exe      N/A      |\n",
      "|    0   N/A  N/A       716    C+G   ...ndexBrowser\\Application\\browser.exe      N/A      |\n",
      "|    0   N/A  N/A      2940    C+G   ...oogle\\Chrome\\Application\\chrome.exe      N/A      |\n",
      "|    0   N/A  N/A      4348      C   C:\\Users\\vasja\\anaconda3\\python.exe         N/A      |\n",
      "|    0   N/A  N/A      6392    C+G   ....Search_cw5n1h2txyewy\\SearchApp.exe      N/A      |\n",
      "|    0   N/A  N/A      6420    C+G   C:\\Windows\\explorer.exe                     N/A      |\n",
      "|    0   N/A  N/A      7068    C+G   ...Programs\\Microsoft VS Code\\Code.exe      N/A      |\n",
      "|    0   N/A  N/A     10368    C+G   ...t.LockApp_cw5n1h2txyewy\\LockApp.exe      N/A      |\n",
      "|    0   N/A  N/A     11888    C+G   ...siveControlPanel\\SystemSettings.exe      N/A      |\n",
      "|    0   N/A  N/A     14172    C+G   ...oogle\\Chrome\\Application\\chrome.exe      N/A      |\n",
      "|    0   N/A  N/A     14932    C+G   ...soft Office\\root\\Office16\\EXCEL.EXE      N/A      |\n",
      "+-----------------------------------------------------------------------------------------+\n"
     ]
    }
   ],
   "source": [
    "!nvidia-smi"
   ]
  },
  {
   "cell_type": "code",
   "execution_count": 748,
   "metadata": {
    "colab": {},
    "colab_type": "code",
    "id": "iUHy-780po9d"
   },
   "outputs": [
    {
     "data": {
      "text/plain": [
       "[Parameter containing:\n",
       " tensor([[-0.0003,  0.0192, -0.0294,  ...,  0.0219,  0.0037,  0.0021],\n",
       "         [-0.0198, -0.0150, -0.0104,  ..., -0.0203, -0.0060, -0.0299],\n",
       "         [-0.0201,  0.0149, -0.0333,  ..., -0.0203,  0.0012,  0.0080],\n",
       "         ...,\n",
       "         [ 0.0222, -0.0173,  0.0321,  ..., -0.0006,  0.0226, -0.0265],\n",
       "         [ 0.0306,  0.0002, -0.0134,  ..., -0.0233,  0.0153,  0.0097],\n",
       "         [-0.0053, -0.0092, -0.0087,  ..., -0.0200, -0.0275, -0.0332]],\n",
       "        device='cuda:0', requires_grad=True),\n",
       " Parameter containing:\n",
       " tensor([ 4.5107e-03,  2.5021e-02,  2.1503e-02,  4.0661e-03, -2.6127e-02,\n",
       "         -3.3030e-02,  6.4560e-03,  7.7034e-03, -9.2830e-03,  2.2907e-02,\n",
       "         -1.5615e-02,  1.7417e-02, -3.0968e-02, -6.9395e-03,  4.2131e-03,\n",
       "          2.9178e-02, -1.4501e-02, -2.6742e-02, -1.1398e-02,  2.5563e-02,\n",
       "          2.2813e-02,  1.4460e-02, -2.5614e-03, -1.9794e-02, -3.2585e-02,\n",
       "          1.0069e-02,  2.8883e-02, -5.9107e-03,  1.4734e-02,  3.2826e-02,\n",
       "         -3.2128e-02, -2.8677e-02,  1.7564e-03, -2.4702e-02,  2.8897e-02,\n",
       "         -1.4669e-02, -4.0155e-03, -2.7919e-02, -2.5877e-02,  2.8945e-02,\n",
       "         -2.4905e-03, -1.9565e-02, -3.0377e-02,  6.4664e-03, -2.9423e-03,\n",
       "         -6.2652e-03,  1.6232e-02, -2.7696e-02, -3.5015e-02,  2.4235e-02,\n",
       "          9.0280e-03, -2.4079e-02,  1.9867e-02, -3.2226e-02,  2.9713e-02,\n",
       "          1.6064e-02,  1.3919e-02, -2.8793e-02, -2.2921e-03, -1.1615e-02,\n",
       "         -1.9036e-02, -1.3498e-02,  2.2005e-02,  2.3364e-02, -2.9158e-02,\n",
       "          1.1972e-02, -2.9872e-03, -8.8128e-03, -2.1145e-03, -3.0960e-02,\n",
       "          1.2294e-02, -2.2814e-02,  1.5434e-02, -3.0427e-02,  3.5107e-02,\n",
       "          8.9870e-03,  7.7607e-03, -1.5737e-03, -6.9236e-03, -3.2773e-02,\n",
       "          1.8017e-02, -1.8594e-02,  1.5312e-02, -1.9425e-02,  1.0656e-02,\n",
       "          2.4728e-02, -7.1340e-03, -3.2454e-02, -2.3697e-02, -3.1107e-02,\n",
       "         -3.5250e-02,  1.9882e-02,  2.5779e-03, -1.3285e-02, -2.7084e-02,\n",
       "         -1.2363e-02, -1.2734e-02,  1.7767e-02, -3.0344e-02,  2.8731e-02,\n",
       "         -3.7469e-03, -2.8492e-02, -3.0028e-02, -6.8705e-03, -4.9716e-04,\n",
       "          2.1599e-02,  2.9548e-02,  1.9710e-02, -5.7391e-03,  1.2125e-03,\n",
       "          5.8377e-03,  7.7482e-03, -3.1929e-02,  2.8726e-02,  2.6366e-02,\n",
       "         -3.2328e-02,  2.1219e-02,  1.7794e-02, -7.9196e-03,  1.8974e-02,\n",
       "          2.2309e-02, -3.3551e-02,  2.5479e-02, -4.9651e-03, -3.4619e-02,\n",
       "         -6.9005e-03,  4.2997e-03,  1.3584e-02, -2.8517e-02,  1.0614e-02,\n",
       "          1.6347e-02, -2.9275e-02,  2.9020e-02,  2.0445e-02,  1.2883e-03,\n",
       "         -3.1183e-02,  3.2044e-02,  9.5754e-04,  3.2222e-02, -2.9863e-02,\n",
       "         -2.9135e-02, -9.5585e-03,  2.5437e-02,  1.2317e-02,  9.5339e-03,\n",
       "         -2.7441e-02,  2.3289e-02,  2.6386e-02, -3.0330e-02,  1.8425e-02,\n",
       "         -1.0324e-02,  1.2593e-02, -2.6881e-03, -5.0385e-03, -2.8973e-02,\n",
       "         -3.0109e-02, -1.8436e-02, -3.3823e-02, -9.1053e-03, -1.3779e-02,\n",
       "          6.1546e-03,  2.9153e-02,  2.5608e-02, -2.0128e-02, -1.6442e-02,\n",
       "          1.0820e-02,  7.6423e-03,  8.0373e-03,  3.0069e-02, -1.4678e-02,\n",
       "         -4.0180e-03, -2.8679e-02, -1.1173e-02, -2.0584e-02,  2.8333e-03,\n",
       "          3.5608e-02,  2.0477e-02,  3.1348e-02, -3.1316e-02,  8.3785e-04,\n",
       "         -2.7661e-02,  2.3450e-02, -2.3578e-02,  1.8871e-02, -4.4996e-03,\n",
       "          1.0261e-02, -2.0123e-02, -3.3122e-02, -1.5958e-02,  8.2441e-03,\n",
       "         -9.8477e-03, -3.2139e-02,  1.9368e-02, -7.3526e-04, -6.5311e-03,\n",
       "         -3.5662e-02,  2.8550e-02,  2.0929e-02,  3.0170e-02,  6.9882e-03,\n",
       "          2.6128e-02, -9.2611e-03, -2.7888e-03,  3.3178e-02,  2.3908e-03,\n",
       "         -1.7345e-02, -9.1618e-03,  3.3096e-02, -3.2829e-02,  5.2360e-03,\n",
       "          5.8027e-03,  4.3393e-03, -3.1238e-02,  2.1352e-02,  9.8210e-03,\n",
       "          2.0978e-02,  1.5499e-02, -1.9195e-02, -3.2890e-02,  2.9247e-02,\n",
       "          1.6747e-02, -3.0380e-02, -3.1505e-03, -3.1294e-02, -3.7068e-03,\n",
       "          1.5046e-03,  3.8608e-03,  1.7163e-02, -2.2872e-02, -1.4300e-02,\n",
       "          9.5144e-03, -1.0089e-02, -5.4462e-03, -2.5097e-02, -3.4208e-02,\n",
       "         -3.0031e-02, -1.4733e-02, -3.0373e-02, -4.6881e-03,  9.8602e-04,\n",
       "         -9.0343e-03,  3.4092e-02,  3.0827e-02, -3.2059e-02,  2.1822e-02,\n",
       "          3.4080e-02,  2.8042e-02,  8.6108e-03,  1.7021e-02,  2.5696e-02,\n",
       "          2.4753e-02, -2.9007e-03, -1.6707e-02,  3.0538e-02,  1.2928e-02,\n",
       "          1.2151e-02, -1.2895e-02, -1.2348e-02, -2.2051e-02,  2.2952e-02,\n",
       "          1.8298e-03, -5.7206e-03,  5.9584e-03, -1.0008e-02, -4.4727e-03,\n",
       "          3.0113e-02,  3.1390e-02, -1.3066e-02, -3.0823e-02,  1.4599e-02,\n",
       "          2.7382e-03,  2.6219e-02, -2.8178e-02, -2.3912e-02, -2.6578e-02,\n",
       "          1.1258e-02, -1.1145e-02, -1.4349e-02, -6.0625e-03, -3.2788e-02,\n",
       "         -1.1934e-02, -1.0868e-03,  2.0449e-02, -7.0193e-03, -3.2995e-02,\n",
       "          9.8360e-03,  2.7301e-02, -3.5550e-02,  3.5447e-02,  8.0893e-03,\n",
       "          6.8100e-03, -3.4548e-02, -3.3074e-02, -2.1897e-02, -2.4632e-02,\n",
       "          1.2409e-02,  2.4251e-02, -9.5469e-03, -3.1106e-03, -1.4082e-02,\n",
       "          2.0625e-02,  1.5821e-02,  5.1422e-03,  6.3248e-03,  2.0978e-02,\n",
       "         -2.8066e-02, -5.9527e-03,  2.3076e-02, -4.0859e-04,  3.3028e-02,\n",
       "         -6.8578e-03,  1.8717e-02,  3.4345e-02, -2.2873e-02,  2.2541e-02,\n",
       "         -2.7648e-02,  3.5341e-02,  5.6632e-03, -1.0579e-02,  2.0576e-02,\n",
       "          9.9362e-03,  5.2884e-04, -1.2344e-02, -3.0304e-02, -1.5585e-02,\n",
       "         -2.9094e-03, -3.0321e-02, -8.2842e-03, -1.2023e-02,  2.4454e-02,\n",
       "         -4.5253e-03,  2.1267e-02, -3.3923e-02,  2.4147e-02, -1.0384e-02,\n",
       "         -1.9239e-02, -2.4385e-02,  2.9143e-02,  2.8072e-02,  4.1848e-03,\n",
       "          2.1253e-02, -2.4830e-02,  5.3148e-03,  3.0574e-02,  1.3908e-03,\n",
       "          1.3588e-02,  1.9839e-02, -2.3524e-02,  2.6681e-03, -1.0073e-02,\n",
       "         -1.1293e-03, -2.0716e-02, -1.9412e-03, -1.9990e-02, -1.9596e-03,\n",
       "          1.2406e-02,  1.4293e-02, -1.0851e-02, -3.1968e-02,  1.2399e-02,\n",
       "         -1.5901e-02, -2.7783e-02, -1.2690e-02, -2.0988e-02,  3.1046e-02,\n",
       "          1.3598e-02,  4.0771e-03, -5.3349e-03,  2.2075e-02,  8.6961e-03,\n",
       "          6.5745e-03,  3.3272e-02,  3.3345e-02,  2.2788e-02, -3.4215e-02,\n",
       "          3.3874e-02,  1.2542e-02, -6.8443e-03, -3.2309e-03, -2.5717e-02,\n",
       "          2.9513e-03, -5.3593e-03, -2.2510e-02, -2.6443e-02, -1.0604e-02,\n",
       "          5.0873e-04,  2.6430e-03,  2.6707e-02, -6.8733e-03, -2.3442e-02,\n",
       "          3.0460e-02,  2.4936e-02, -1.9146e-02, -8.3187e-03,  1.1609e-02,\n",
       "          1.2954e-02, -3.5041e-02,  1.0229e-03,  2.3978e-03,  3.2702e-02,\n",
       "         -7.8207e-03,  2.9191e-02,  2.0951e-02,  1.0262e-02, -1.4131e-02,\n",
       "          8.4150e-03, -3.0762e-02, -3.0999e-03, -1.9993e-02,  2.2027e-02,\n",
       "          2.6919e-02,  2.7906e-03,  2.6111e-02,  1.9652e-02,  2.9582e-02,\n",
       "         -1.6801e-02,  2.9122e-02,  1.9162e-02, -2.8592e-02,  1.4057e-02,\n",
       "         -5.9345e-03, -1.9509e-05,  1.7029e-02, -3.2796e-02, -6.7349e-03,\n",
       "         -3.2078e-02, -1.8388e-02, -1.6012e-02, -8.9921e-03, -2.4139e-02,\n",
       "         -1.1084e-02, -3.3741e-02, -2.1859e-02,  1.3692e-02, -2.7524e-02,\n",
       "         -1.7964e-02,  6.4352e-04,  2.3732e-03,  2.3004e-02, -2.1747e-02,\n",
       "          7.2848e-03, -9.5621e-03, -2.5140e-03, -1.5296e-02,  7.8551e-03,\n",
       "          1.6782e-02,  1.3460e-02, -1.8967e-02, -4.8034e-03, -3.5500e-02,\n",
       "          8.7873e-03,  2.1704e-02, -3.3495e-02, -3.0120e-02,  2.2798e-02,\n",
       "          9.8469e-03,  2.1656e-02,  1.3808e-02,  2.0848e-02, -1.9878e-02,\n",
       "         -4.2423e-03,  1.0226e-02, -1.6813e-02, -2.9594e-02,  1.1386e-02,\n",
       "         -3.2610e-02,  1.1846e-02,  5.5366e-04,  3.1228e-02, -7.8167e-04,\n",
       "         -1.4915e-02, -3.3865e-02,  3.3054e-02, -8.8725e-03,  2.6458e-03,\n",
       "          2.8186e-02,  3.2193e-02,  2.8225e-04, -3.3043e-03, -8.6768e-03,\n",
       "          2.3761e-02,  1.5010e-02,  1.6147e-02,  8.0456e-04, -1.9573e-02,\n",
       "         -1.5929e-02, -6.3581e-03, -1.7002e-02, -2.1564e-02, -1.6264e-02,\n",
       "          2.6300e-02, -1.2852e-03,  1.7202e-02, -1.0198e-02, -2.5892e-02,\n",
       "          5.1400e-03, -4.9155e-03,  1.8443e-02, -1.2904e-02,  1.7369e-02,\n",
       "         -1.2217e-02, -1.0280e-02,  3.0761e-02,  4.0949e-03,  1.5327e-02,\n",
       "         -3.5088e-02,  1.4002e-02,  2.8049e-02, -3.3457e-03,  1.1638e-02,\n",
       "         -2.2505e-02,  1.4817e-03, -1.1993e-02,  8.4822e-04, -2.0647e-02,\n",
       "          2.1694e-02,  7.0977e-03,  7.0789e-04,  4.8774e-03,  3.4976e-02,\n",
       "          1.2434e-02, -1.6911e-02,  8.1613e-03,  3.4197e-02,  1.4238e-02,\n",
       "         -7.0335e-03, -1.5869e-02, -2.0969e-02,  3.0330e-02,  2.3466e-03,\n",
       "         -2.3084e-02,  6.6895e-03, -1.8869e-03,  1.9115e-02, -2.0647e-02,\n",
       "         -3.0300e-02, -3.1284e-02, -3.1843e-02, -1.1637e-02, -2.8188e-02,\n",
       "          2.3828e-02,  2.8016e-02,  2.6507e-02,  1.6934e-02,  2.9359e-02,\n",
       "          1.5113e-02,  2.2234e-02,  2.6078e-03, -2.3648e-02,  7.6057e-03,\n",
       "         -3.3743e-03,  2.6773e-02,  3.4890e-03,  2.9145e-03, -3.2340e-02,\n",
       "          3.1343e-02, -3.2653e-03, -2.5118e-02,  2.1661e-02, -1.8069e-02,\n",
       "         -1.1220e-03,  1.6714e-03,  1.4402e-04,  1.4360e-02, -4.8817e-03,\n",
       "          1.2093e-02,  9.5937e-04,  1.2723e-02, -2.8015e-02,  3.5277e-02,\n",
       "         -3.0487e-02, -3.3806e-02, -1.7492e-02,  2.8327e-02, -3.5142e-02,\n",
       "          1.5462e-02,  8.0491e-03, -2.1327e-02,  4.8987e-03, -2.3953e-02,\n",
       "         -2.5464e-02, -2.3974e-02,  2.7142e-02, -3.1738e-02, -1.4775e-02,\n",
       "         -2.4554e-03,  3.4108e-02, -1.6742e-02,  3.3729e-02,  2.4774e-02,\n",
       "         -2.0967e-03,  1.8123e-02,  8.3402e-03,  1.5954e-02, -1.3338e-02,\n",
       "         -1.8728e-02, -2.5259e-02,  3.4215e-02, -2.5139e-03, -2.6358e-02,\n",
       "          1.4526e-02,  1.5483e-02,  1.1453e-02,  3.1506e-02, -2.9727e-02,\n",
       "          2.1420e-02,  1.2616e-02, -2.4045e-02, -6.2701e-03, -8.1869e-03,\n",
       "         -1.2317e-02,  2.4541e-02,  2.6431e-02,  2.4906e-03, -1.8926e-02,\n",
       "         -9.0903e-03,  1.8002e-02,  4.0920e-03,  1.7008e-02,  3.0965e-02,\n",
       "          2.1890e-02, -1.3409e-02, -1.5225e-02, -1.0779e-02,  3.2902e-02,\n",
       "          1.7693e-02,  3.4340e-02, -6.3600e-03, -1.6701e-03, -1.9031e-02,\n",
       "          2.5216e-03,  2.3955e-02,  1.7820e-02, -1.0090e-02, -1.4663e-02,\n",
       "         -1.4425e-02,  3.3907e-02,  3.5121e-02, -2.6618e-02,  3.1704e-02,\n",
       "          3.3670e-02,  2.5842e-02, -2.1846e-02,  3.2242e-02, -1.6745e-02,\n",
       "         -8.8523e-03, -3.4468e-02, -2.6253e-02,  1.4797e-02, -1.3939e-02,\n",
       "         -2.0946e-02,  1.4204e-02, -1.4546e-02, -2.4886e-02, -2.1993e-02,\n",
       "          6.7901e-04, -2.7735e-04, -2.9783e-02,  1.7340e-02, -1.7921e-02,\n",
       "         -4.4553e-03, -1.3725e-02, -2.4737e-02,  1.7606e-03, -8.5582e-03,\n",
       "          2.3039e-02,  1.9994e-02, -3.4411e-02, -2.1159e-02,  3.2801e-02,\n",
       "         -2.6827e-02,  3.2014e-02,  2.2918e-02,  3.2466e-02,  4.4763e-03,\n",
       "          1.2764e-02,  6.1520e-03,  2.2159e-02, -1.8966e-02, -1.8145e-02,\n",
       "          6.2761e-03, -3.0199e-02, -2.0319e-02,  3.0167e-02, -2.2144e-02,\n",
       "          1.0489e-02,  3.5188e-02,  1.9593e-02, -3.0944e-02, -4.0883e-03,\n",
       "         -2.5938e-02, -2.5363e-02, -3.0412e-02, -2.6147e-02, -3.2974e-02,\n",
       "          2.9141e-02, -2.4443e-02, -2.6578e-02,  1.3426e-02, -1.6459e-02,\n",
       "         -1.8676e-03, -2.7520e-03, -1.4792e-02,  2.8102e-02, -2.2609e-02,\n",
       "          2.2585e-03, -1.2582e-02, -2.8690e-02, -3.4774e-02,  1.2639e-02,\n",
       "         -2.6825e-02,  5.3982e-03, -1.9924e-02, -1.6201e-02, -1.4769e-02,\n",
       "         -3.1105e-02, -1.1965e-02, -1.8027e-02,  2.5202e-02, -3.4730e-02,\n",
       "          3.0711e-02, -1.3145e-02, -8.1553e-03, -1.3557e-02, -3.0442e-02,\n",
       "          1.2382e-02,  1.8776e-02,  3.1237e-02, -1.9484e-02,  7.4410e-03,\n",
       "         -8.7624e-04, -2.9450e-03,  1.0924e-02,  3.3636e-02,  3.3367e-02,\n",
       "         -2.2542e-02, -9.7281e-03, -3.4965e-02,  2.0299e-02,  3.3543e-02,\n",
       "          1.0899e-02,  3.2449e-02, -2.2038e-02,  1.9618e-02, -1.7008e-02,\n",
       "          5.7772e-03,  3.7155e-03, -2.5537e-03,  4.1218e-03, -2.2416e-02,\n",
       "         -3.3075e-02,  2.6875e-02, -1.5299e-02, -2.7696e-02, -2.1468e-02,\n",
       "          3.1291e-02,  2.2667e-02,  2.5365e-02, -1.6944e-02,  1.4084e-02,\n",
       "          1.4526e-02,  1.6075e-02, -2.4168e-02, -2.2368e-02,  1.9268e-02,\n",
       "          1.3356e-02, -1.7246e-02, -1.2780e-03, -6.6428e-03, -1.6466e-02,\n",
       "          2.6274e-02,  6.5294e-03,  2.5950e-02, -2.3839e-02,  5.5150e-03,\n",
       "         -1.1966e-02,  1.6342e-02, -1.6924e-02, -3.0777e-02,  1.6356e-02,\n",
       "         -2.3624e-02, -1.4553e-02,  1.7744e-02, -1.9419e-02], device='cuda:0',\n",
       "        requires_grad=True),\n",
       " Parameter containing:\n",
       " tensor([[ 0.0166, -0.0159,  0.0220,  ...,  0.0044,  0.0246, -0.0285],\n",
       "         [-0.0280, -0.0180,  0.0196,  ...,  0.0259, -0.0339, -0.0088],\n",
       "         [ 0.0129,  0.0293, -0.0249,  ...,  0.0336,  0.0119, -0.0302],\n",
       "         ...,\n",
       "         [ 0.0327,  0.0185, -0.0269,  ...,  0.0218,  0.0264,  0.0092],\n",
       "         [ 0.0319,  0.0266,  0.0302,  ..., -0.0309,  0.0028, -0.0336],\n",
       "         [-0.0134,  0.0209, -0.0276,  ..., -0.0280, -0.0330, -0.0217]],\n",
       "        device='cuda:0', requires_grad=True),\n",
       " Parameter containing:\n",
       " tensor([-0.0118, -0.0042, -0.0348,  0.0133, -0.0325,  0.0230, -0.0286, -0.0302,\n",
       "         -0.0138, -0.0226], device='cuda:0', requires_grad=True)]"
      ]
     },
     "execution_count": 748,
     "metadata": {},
     "output_type": "execute_result"
    }
   ],
   "source": [
    "device = torch.device('cuda:0' if torch.cuda.is_available() else 'cpu')\n",
    "\n",
    "mnist_net = mnist_net.to(device)\n",
    "list(mnist_net.parameters())\n"
   ]
  },
  {
   "cell_type": "code",
   "execution_count": 749,
   "metadata": {
    "colab": {},
    "colab_type": "code",
    "id": "00_2j2igpS3o"
   },
   "outputs": [],
   "source": [
    "loss = torch.nn.CrossEntropyLoss()\n",
    "optimizer = torch.optim.SGD(mnist_net.parameters(), lr=9.0e-3, momentum=0.93)"
   ]
  },
  {
   "cell_type": "code",
   "execution_count": 750,
   "metadata": {
    "colab": {},
    "colab_type": "code",
    "id": "wZtqiGvfpS3r"
   },
   "outputs": [
    {
     "name": "stdout",
     "output_type": "stream",
     "text": [
      "tensor(0.9269, device='cuda:0')\n",
      "tensor(0.9413, device='cuda:0')\n",
      "tensor(0.9505, device='cuda:0')\n",
      "tensor(0.9545, device='cuda:0')\n",
      "tensor(0.9595, device='cuda:0')\n",
      "tensor(0.9619, device='cuda:0')\n",
      "tensor(0.9636, device='cuda:0')\n",
      "tensor(0.9652, device='cuda:0')\n",
      "tensor(0.9677, device='cuda:0')\n",
      "tensor(0.9691, device='cuda:0')\n",
      "tensor(0.9703, device='cuda:0')\n",
      "tensor(0.9714, device='cuda:0')\n",
      "tensor(0.9712, device='cuda:0')\n",
      "tensor(0.9739, device='cuda:0')\n",
      "tensor(0.9744, device='cuda:0')\n",
      "tensor(0.9731, device='cuda:0')\n",
      "tensor(0.9734, device='cuda:0')\n",
      "tensor(0.9730, device='cuda:0')\n",
      "tensor(0.9744, device='cuda:0')\n",
      "tensor(0.9751, device='cuda:0')\n",
      "tensor(0.9754, device='cuda:0')\n",
      "tensor(0.9762, device='cuda:0')\n",
      "tensor(0.9757, device='cuda:0')\n",
      "tensor(0.9753, device='cuda:0')\n",
      "tensor(0.9773, device='cuda:0')\n",
      "tensor(0.9780, device='cuda:0')\n",
      "tensor(0.9768, device='cuda:0')\n",
      "tensor(0.9771, device='cuda:0')\n",
      "tensor(0.9785, device='cuda:0')\n",
      "tensor(0.9784, device='cuda:0')\n"
     ]
    }
   ],
   "source": [
    "batch_size = 500\n",
    "\n",
    "test_accuracy_history = []\n",
    "test_loss_history = []\n",
    "train_loss_history = []\n",
    "\n",
    "X_test = X_test.to(device)\n",
    "y_test = y_test.to(device)\n",
    "\n",
    "for epoch in range(30):\n",
    "    order = np.random.permutation(len(X_train))\n",
    "    epoch_train_loss = []\n",
    "    for start_index in range(0, len(X_train), batch_size):\n",
    "        optimizer.zero_grad()\n",
    "        \n",
    "        batch_indexes = order[start_index:start_index+batch_size]\n",
    "        \n",
    "        X_batch = X_train[batch_indexes].to(device)\n",
    "        y_batch = y_train[batch_indexes].to(device)\n",
    "        \n",
    "        preds = mnist_net.forward(X_batch) \n",
    "        \n",
    "        loss_value = loss(preds, y_batch)\n",
    "        loss_value.backward()\n",
    "        \n",
    "        optimizer.step()\n",
    "        epoch_train_loss.append(loss_value.detach())\n",
    "\n",
    "    train_loss_history.append(torch.mean(torch.stack(epoch_train_loss))) #Усредняем батчи и добавляем в историю\n",
    "\n",
    "\n",
    "    with torch.no_grad():  # Отключаем вычисление градиентов для теста\n",
    "        test_preds = mnist_net.forward(X_test)\n",
    "        test_loss = loss(test_preds, y_test) #считаем вне цикла\n",
    "        test_loss_history.append(test_loss)\n",
    "\n",
    "        accuracy = (test_preds.argmax(dim=1) == y_test).float().mean()\n",
    "        test_accuracy_history.append(accuracy)\n",
    "        print(accuracy)"
   ]
  },
  {
   "cell_type": "code",
   "execution_count": 751,
   "metadata": {},
   "outputs": [
    {
     "data": {
      "image/png": "[encoded data removed]",
      "text/plain": [
       "<Figure size 640x480 with 1 Axes>"
      ]
     },
     "metadata": {},
     "output_type": "display_data"
    }
   ],
   "source": [
    "# Обработка test_loss_history\n",
    "if isinstance(test_loss_history, list) and all(isinstance(item, torch.Tensor) for item in test_loss_history):\n",
    "    test_loss_history_cpu = [loss.cpu().detach().numpy() for loss in test_loss_history]\n",
    "    plt.plot(test_loss_history_cpu, label=\"Test Loss\")\n",
    "elif isinstance(test_loss_history, torch.Tensor):\n",
    "    test_loss_history_cpu = test_loss_history.cpu().detach().numpy()\n",
    "    plt.plot(test_loss_history_cpu, label=\"Test Loss\")\n",
    "else:\n",
    "    plt.plot(test_loss_history, label=\"Test Loss\")\n",
    "\n",
    "\n",
    "# Обработка train_loss_history\n",
    "if isinstance(train_loss_history, list) and all(isinstance(item, torch.Tensor) for item in train_loss_history):\n",
    "    train_loss_history_cpu = [loss.cpu().detach().numpy() for loss in train_loss_history]\n",
    "    plt.plot(train_loss_history_cpu, label=\"Train Loss\")\n",
    "elif isinstance(train_loss_history, torch.Tensor):\n",
    "    train_loss_history_cpu = train_loss_history.cpu().detach().numpy()\n",
    "    plt.plot(train_loss_history_cpu, label='Train Loss')\n",
    "else:\n",
    "    plt.plot(train_loss_history, label=\"Train Loss\")\n",
    "\n",
    "# Обработка test_accuracy_history (если нужно)\n",
    "if isinstance(test_accuracy_history, list) and all(isinstance(item, torch.Tensor) for item in test_accuracy_history):\n",
    "    test_accuracy_history_cpu = [acc.cpu().detach().numpy() for acc in test_accuracy_history]\n",
    "    plt.plot(test_accuracy_history_cpu, label=\"Test Accuracy\")\n",
    "elif isinstance(test_accuracy_history, torch.Tensor):\n",
    "    test_accuracy_history_cpu = test_accuracy_history.cpu().detach().numpy()\n",
    "    plt.plot(test_accuracy_history_cpu, label=\"Test Accuracy\")\n",
    "else:\n",
    "    plt.plot(test_accuracy_history, label=\"Test Accuracy\")\n",
    "\n",
    "\n",
    "plt.xlabel(\"Epoch\")\n",
    "plt.ylabel(\"Value\")\n",
    "plt.title(\"Training and Test Metrics\")\n",
    "plt.legend()\n",
    "plt.show()"
   ]
  },
  {
   "cell_type": "code",
   "execution_count": 752,
   "metadata": {},
   "outputs": [
    {
     "name": "stdout",
     "output_type": "stream",
     "text": [
      "Epoch 1, Val Loss: 0.3093, Train Loss: 1.4128\n",
      "Epoch 2, Val Loss: 0.1941, Train Loss: 0.2325\n",
      "Epoch 3, Val Loss: 0.1625, Train Loss: 0.1589\n",
      "Epoch 4, Val Loss: 0.1240, Train Loss: 0.1257\n",
      "Epoch 5, Val Loss: 0.1299, Train Loss: 0.1077\n",
      "Epoch 6, Val Loss: 0.1175, Train Loss: 0.0957\n",
      "Epoch 7, Val Loss: 0.1115, Train Loss: 0.0821\n",
      "Epoch 8, Val Loss: 0.0986, Train Loss: 0.0709\n",
      "Epoch 9, Val Loss: 0.1004, Train Loss: 0.0665\n",
      "Epoch 10, Val Loss: 0.0986, Train Loss: 0.0602\n",
      "Epoch 11, Val Loss: 0.0987, Train Loss: 0.0528\n",
      "Epoch 12, Val Loss: 0.0956, Train Loss: 0.0504\n",
      "Epoch 13, Val Loss: 0.0874, Train Loss: 0.0483\n",
      "Epoch 14, Val Loss: 0.0887, Train Loss: 0.0474\n",
      "Epoch 15, Val Loss: 0.0967, Train Loss: 0.0429\n",
      "Epoch 16, Val Loss: 0.0936, Train Loss: 0.0433\n",
      "Epoch 17, Val Loss: 0.0917, Train Loss: 0.0452\n",
      "Early stopping on epoch 18\n",
      "Test Accuracy: 0.9753, Test Loss: 0.0988\n"
     ]
    },
    {
     "data": {
      "image/png": "[encoded data removed]",
      "text/plain": [
       "<Figure size 1000x500 with 1 Axes>"
      ]
     },
     "metadata": {},
     "output_type": "display_data"
    }
   ],
   "source": [
    "import torch\n",
    "import torch.nn as nn\n",
    "import torch.optim as optim\n",
    "import torchvision.datasets\n",
    "import torchvision.transforms as transforms\n",
    "import matplotlib.pyplot as plt\n",
    "import numpy as np\n",
    "from sklearn.model_selection import train_test_split\n",
    "\n",
    "# --- Воспроизводимость ---\n",
    "random.seed(0)\n",
    "np.random.seed(0)\n",
    "torch.manual_seed(0)\n",
    "torch.cuda.manual_seed(0)\n",
    "torch.backends.cudnn.deterministic = True\n",
    "\n",
    "# --- Загрузка и предобработка данных ---\n",
    "train_transform = transforms.Compose([\n",
    "    transforms.RandomRotation(degrees=10),\n",
    "    transforms.RandomAffine(degrees=0, translate=(0.1, 0.1)),\n",
    "    transforms.ToTensor(),\n",
    "    transforms.Normalize((0.1307,), (0.3081,))\n",
    "])\n",
    "test_transform = transforms.Compose([\n",
    "    transforms.ToTensor(),\n",
    "    transforms.Normalize((0.1307,), (0.3081,))\n",
    "])\n",
    "\n",
    "train_dataset = torchvision.datasets.MNIST('./', train=True, download=True, transform=train_transform)\n",
    "test_dataset = torchvision.datasets.MNIST('./', train=False, download=True, transform=test_transform)\n",
    "\n",
    "X = train_dataset.data.float() # Все данные для обучения\n",
    "y = train_dataset.targets\n",
    "\n",
    "# Разделение на train/val/test (60/20/20)\n",
    "X_train, X_temp, y_train, y_temp = train_test_split(\n",
    "    X, y, test_size=0.4, random_state=42, stratify=y\n",
    ")\n",
    "X_val, X_test, y_val, y_test = train_test_split(\n",
    "    X_temp, y_temp, test_size=0.5, random_state=42, stratify=y_temp\n",
    ")\n",
    "\n",
    "\n",
    "# --- Модель (CNN) ---\n",
    "class MNIST_CNN(nn.Module):\n",
    "    def __init__(self):\n",
    "        super().__init__()\n",
    "        self.conv1 = nn.Conv2d(1, 32, kernel_size=3, padding=1)\n",
    "        self.relu1 = nn.ReLU()\n",
    "        self.pool1 = nn.MaxPool2d(kernel_size=2, stride=2)\n",
    "        self.conv2 = nn.Conv2d(32, 64, kernel_size=3, padding=1)\n",
    "        self.relu2 = nn.ReLU()\n",
    "        self.pool2 = nn.MaxPool2d(kernel_size=2, stride=2)\n",
    "        self.flatten = nn.Flatten()\n",
    "        self.fc1 = nn.Linear(7 * 7 * 64, 128)\n",
    "        self.relu3 = nn.ReLU()\n",
    "        self.dropout = nn.Dropout(p=0.5)\n",
    "        self.fc2 = nn.Linear(128, 10)\n",
    "\n",
    "    def forward(self, x):\n",
    "        x = self.pool1(self.relu1(self.conv1(x)))\n",
    "        x = self.pool2(self.relu2(self.conv2(x)))\n",
    "        x = self.flatten(x)\n",
    "        x = self.relu3(self.fc1(x))\n",
    "        x = self.dropout(x)\n",
    "        x = self.fc2(x)\n",
    "        return x\n",
    "\n",
    "mnist_net = MNIST_CNN()\n",
    "\n",
    "# --- Выбор устройства ---\n",
    "device = torch.device('cuda:0' if torch.cuda.is_available() else 'cpu')\n",
    "mnist_net.to(device)\n",
    "\n",
    "\n",
    "# --- Функция потерь и оптимизатор ---\n",
    "loss_fn = nn.CrossEntropyLoss()\n",
    "optimizer = optim.Adam(mnist_net.parameters(), lr=1e-3)\n",
    "\n",
    "# --- Обучение ---\n",
    "batch_size = 500\n",
    "num_epochs = 30  # Можете увеличить\n",
    "patience = 5\n",
    "best_val_loss = float('inf')\n",
    "best_model_state = None\n",
    "\n",
    "train_loss_history = []\n",
    "val_loss_history = []\n",
    "\n",
    "\n",
    "X_val = X_val.unsqueeze(1).to(device) # Добавляем размерность канала и перемещаем на GPU\n",
    "y_val = y_val.to(device)\n",
    "X_test = X_test.unsqueeze(1).to(device)\n",
    "y_test = y_test.to(device)\n",
    "\n",
    "\n",
    "for epoch in range(num_epochs):\n",
    "    order = np.random.permutation(len(X_train))\n",
    "    epoch_train_loss = []\n",
    "\n",
    "    for start_index in range(0, len(X_train), batch_size):\n",
    "        optimizer.zero_grad()\n",
    "        batch_indexes = order[start_index:start_index + batch_size]\n",
    "        X_batch = X_train[batch_indexes].unsqueeze(1).to(device)  # Добавляем размерность канала\n",
    "        y_batch = y_train[batch_indexes].to(device)\n",
    "\n",
    "        preds = mnist_net(X_batch)\n",
    "        loss_value = loss_fn(preds, y_batch)\n",
    "        loss_value.backward()\n",
    "        optimizer.step()\n",
    "        epoch_train_loss.append(loss_value.item()) # .item() - чтобы получить число\n",
    "\n",
    "    train_loss_history.append(np.mean(epoch_train_loss)) #среднее значение loss по эпохе\n",
    "\n",
    "\n",
    "\n",
    "    with torch.no_grad():\n",
    "        val_preds = mnist_net(X_val)\n",
    "        val_loss = loss_fn(val_preds, y_val).item() # .item() - чтобы получить число\n",
    "        val_loss_history.append(val_loss)\n",
    "\n",
    "\n",
    "        if val_loss < best_val_loss:\n",
    "            best_val_loss = val_loss\n",
    "            best_model_state = mnist_net.state_dict()\n",
    "            epochs_no_improve = 0\n",
    "        else:\n",
    "            epochs_no_improve += 1\n",
    "            if epochs_no_improve == patience:\n",
    "                print(f\"Early stopping on epoch {epoch+1}\")\n",
    "                break\n",
    "\n",
    "    print(f\"Epoch {epoch+1}, Val Loss: {val_loss:.4f}, Train Loss: {train_loss_history[-1]:.4f}\")\n",
    "\n",
    "\n",
    "\n",
    "# Загружаем лучшие веса\n",
    "mnist_net.load_state_dict(best_model_state)\n",
    "\n",
    "\n",
    "# Оценка на тестовой выборке\n",
    "with torch.no_grad():\n",
    "    test_preds = mnist_net(X_test)\n",
    "    test_loss = loss_fn(test_preds, y_test)\n",
    "    accuracy = (test_preds.argmax(dim=1) == y_test).float().mean()\n",
    "\n",
    "print(f\"Test Accuracy: {accuracy:.4f}, Test Loss: {test_loss:.4f}\")\n",
    "\n",
    "# --- Построение графиков ---\n",
    "plt.figure(figsize=(10, 5))\n",
    "plt.plot(train_loss_history, label='Train Loss')\n",
    "plt.plot(val_loss_history, label='Validation Loss')\n",
    "plt.xlabel('Epoch')\n",
    "plt.ylabel('Loss')\n",
    "plt.title('Training and Validation Loss')\n",
    "plt.legend()\n",
    "plt.show()"
   ]
  }
 ],
 "metadata": {
  "accelerator": "GPU",
  "colab": {
   "collapsed_sections": [],
   "name": "Lesson 5 Digits Recognition Video.ipynb",
   "provenance": [],
   "version": "0.3.2"
  },
  "kernelspec": {
   "display_name": "base",
   "language": "python",
   "name": "python3"
  },
  "language_info": {
   "codemirror_mode": {
    "name": "ipython",
    "version": 3
   },
   "file_extension": ".py",
   "mimetype": "text/x-python",
   "name": "python",
   "nbconvert_exporter": "python",
   "pygments_lexer": "ipython3",
   "version": "3.12.7"
  }
 },
 "nbformat": 4,
 "nbformat_minor": 1
}
